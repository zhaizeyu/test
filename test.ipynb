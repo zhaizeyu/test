{
  "nbformat": 4,
  "nbformat_minor": 0,
  "metadata": {
    "colab": {
      "provenance": [],
      "name": "test.ipynb",
      "authorship_tag": "ABX9TyOnApKnP7QNwSSFRVB31+ou",
      "include_colab_link": true
    },
    "kernelspec": {
      "name": "python3",
      "display_name": "Python 3"
    },
    "language_info": {
      "name": "python"
    }
  },
  "cells": [
    {
      "cell_type": "markdown",
      "metadata": {
        "id": "view-in-github",
        "colab_type": "text"
      },
      "source": [
        "<a href=\"https://colab.research.google.com/github/zhaizeyu/test/blob/master/test.ipynb\" target=\"_parent\"><img src=\"https://colab.research.google.com/assets/colab-badge.svg\" alt=\"Open In Colab\"/></a>"
      ]
    },
    {
      "cell_type": "code",
      "source": [
        "!pip install akshare"
      ],
      "metadata": {
        "collapsed": true,
        "colab": {
          "base_uri": "https://localhost:8080/"
        },
        "id": "3sr6fjKOloJe",
        "outputId": "7090628b-b134-41a2-ffc7-11e03e93f1c8"
      },
      "execution_count": 1,
      "outputs": [
        {
          "output_type": "stream",
          "name": "stdout",
          "text": [
            "Collecting akshare\n",
            "  Downloading akshare-1.17.46-py3-none-any.whl.metadata (12 kB)\n",
            "Requirement already satisfied: aiohttp>=3.11.13 in /usr/local/lib/python3.12/dist-packages (from akshare) (3.12.15)\n",
            "Requirement already satisfied: beautifulsoup4>=4.9.1 in /usr/local/lib/python3.12/dist-packages (from akshare) (4.13.5)\n",
            "Requirement already satisfied: lxml>=4.2.1 in /usr/local/lib/python3.12/dist-packages (from akshare) (5.4.0)\n",
            "Requirement already satisfied: pandas>=0.25 in /usr/local/lib/python3.12/dist-packages (from akshare) (2.2.2)\n",
            "Requirement already satisfied: requests>=2.22.0 in /usr/local/lib/python3.12/dist-packages (from akshare) (2.32.4)\n",
            "Requirement already satisfied: html5lib>=1.0.1 in /usr/local/lib/python3.12/dist-packages (from akshare) (1.1)\n",
            "Requirement already satisfied: xlrd>=1.2.0 in /usr/local/lib/python3.12/dist-packages (from akshare) (2.0.2)\n",
            "Requirement already satisfied: urllib3>=1.25.8 in /usr/local/lib/python3.12/dist-packages (from akshare) (2.5.0)\n",
            "Requirement already satisfied: tqdm>=4.43.0 in /usr/local/lib/python3.12/dist-packages (from akshare) (4.67.1)\n",
            "Requirement already satisfied: openpyxl>=3.0.3 in /usr/local/lib/python3.12/dist-packages (from akshare) (3.1.5)\n",
            "Collecting jsonpath>=0.82 (from akshare)\n",
            "  Downloading jsonpath-0.82.2.tar.gz (10 kB)\n",
            "  Preparing metadata (setup.py) ... \u001b[?25l\u001b[?25hdone\n",
            "Requirement already satisfied: tabulate>=0.8.6 in /usr/local/lib/python3.12/dist-packages (from akshare) (0.9.0)\n",
            "Requirement already satisfied: decorator>=4.4.2 in /usr/local/lib/python3.12/dist-packages (from akshare) (4.4.2)\n",
            "Requirement already satisfied: nest_asyncio>=1.6.0 in /usr/local/lib/python3.12/dist-packages (from akshare) (1.6.0)\n",
            "Collecting py-mini-racer>=0.6.0 (from akshare)\n",
            "  Downloading py_mini_racer-0.6.0-py2.py3-none-manylinux1_x86_64.whl.metadata (8.7 kB)\n",
            "Collecting akracer>=0.0.13 (from akracer[py-mini-racer]>=0.0.13; platform_system == \"Linux\"->akshare)\n",
            "  Downloading akracer-0.0.13-py3-none-any.whl.metadata (2.8 kB)\n",
            "Requirement already satisfied: aiohappyeyeballs>=2.5.0 in /usr/local/lib/python3.12/dist-packages (from aiohttp>=3.11.13->akshare) (2.6.1)\n",
            "Requirement already satisfied: aiosignal>=1.4.0 in /usr/local/lib/python3.12/dist-packages (from aiohttp>=3.11.13->akshare) (1.4.0)\n",
            "Requirement already satisfied: attrs>=17.3.0 in /usr/local/lib/python3.12/dist-packages (from aiohttp>=3.11.13->akshare) (25.3.0)\n",
            "Requirement already satisfied: frozenlist>=1.1.1 in /usr/local/lib/python3.12/dist-packages (from aiohttp>=3.11.13->akshare) (1.7.0)\n",
            "Requirement already satisfied: multidict<7.0,>=4.5 in /usr/local/lib/python3.12/dist-packages (from aiohttp>=3.11.13->akshare) (6.6.4)\n",
            "Requirement already satisfied: propcache>=0.2.0 in /usr/local/lib/python3.12/dist-packages (from aiohttp>=3.11.13->akshare) (0.3.2)\n",
            "Requirement already satisfied: yarl<2.0,>=1.17.0 in /usr/local/lib/python3.12/dist-packages (from aiohttp>=3.11.13->akshare) (1.20.1)\n",
            "\u001b[33mWARNING: akracer 0.0.13 does not provide the extra 'py-mini-racer'\u001b[0m\u001b[33m\n",
            "\u001b[0mRequirement already satisfied: soupsieve>1.2 in /usr/local/lib/python3.12/dist-packages (from beautifulsoup4>=4.9.1->akshare) (2.8)\n",
            "Requirement already satisfied: typing-extensions>=4.0.0 in /usr/local/lib/python3.12/dist-packages (from beautifulsoup4>=4.9.1->akshare) (4.15.0)\n",
            "Requirement already satisfied: six>=1.9 in /usr/local/lib/python3.12/dist-packages (from html5lib>=1.0.1->akshare) (1.17.0)\n",
            "Requirement already satisfied: webencodings in /usr/local/lib/python3.12/dist-packages (from html5lib>=1.0.1->akshare) (0.5.1)\n",
            "Requirement already satisfied: et-xmlfile in /usr/local/lib/python3.12/dist-packages (from openpyxl>=3.0.3->akshare) (2.0.0)\n",
            "Requirement already satisfied: numpy>=1.26.0 in /usr/local/lib/python3.12/dist-packages (from pandas>=0.25->akshare) (2.0.2)\n",
            "Requirement already satisfied: python-dateutil>=2.8.2 in /usr/local/lib/python3.12/dist-packages (from pandas>=0.25->akshare) (2.9.0.post0)\n",
            "Requirement already satisfied: pytz>=2020.1 in /usr/local/lib/python3.12/dist-packages (from pandas>=0.25->akshare) (2025.2)\n",
            "Requirement already satisfied: tzdata>=2022.7 in /usr/local/lib/python3.12/dist-packages (from pandas>=0.25->akshare) (2025.2)\n",
            "Requirement already satisfied: charset_normalizer<4,>=2 in /usr/local/lib/python3.12/dist-packages (from requests>=2.22.0->akshare) (3.4.3)\n",
            "Requirement already satisfied: idna<4,>=2.5 in /usr/local/lib/python3.12/dist-packages (from requests>=2.22.0->akshare) (3.10)\n",
            "Requirement already satisfied: certifi>=2017.4.17 in /usr/local/lib/python3.12/dist-packages (from requests>=2.22.0->akshare) (2025.8.3)\n",
            "Downloading akshare-1.17.46-py3-none-any.whl (1.1 MB)\n",
            "\u001b[2K   \u001b[90m━━━━━━━━━━━━━━━━━━━━━━━━━━━━━━━━━━━━━━━━\u001b[0m \u001b[32m1.1/1.1 MB\u001b[0m \u001b[31m15.9 MB/s\u001b[0m eta \u001b[36m0:00:00\u001b[0m\n",
            "\u001b[?25hDownloading akracer-0.0.13-py3-none-any.whl (10.1 MB)\n",
            "\u001b[2K   \u001b[90m━━━━━━━━━━━━━━━━━━━━━━━━━━━━━━━━━━━━━━━━\u001b[0m \u001b[32m10.1/10.1 MB\u001b[0m \u001b[31m97.6 MB/s\u001b[0m eta \u001b[36m0:00:00\u001b[0m\n",
            "\u001b[?25hDownloading py_mini_racer-0.6.0-py2.py3-none-manylinux1_x86_64.whl (5.4 MB)\n",
            "\u001b[2K   \u001b[90m━━━━━━━━━━━━━━━━━━━━━━━━━━━━━━━━━━━━━━━━\u001b[0m \u001b[32m5.4/5.4 MB\u001b[0m \u001b[31m93.6 MB/s\u001b[0m eta \u001b[36m0:00:00\u001b[0m\n",
            "\u001b[?25hBuilding wheels for collected packages: jsonpath\n",
            "  Building wheel for jsonpath (setup.py) ... \u001b[?25l\u001b[?25hdone\n",
            "  Created wheel for jsonpath: filename=jsonpath-0.82.2-py3-none-any.whl size=5615 sha256=fd6f48a567b9c3ceaa8ab96ae4760fbf8d51a51dc08e960ad1bd010c998b4aa8\n",
            "  Stored in directory: /root/.cache/pip/wheels/73/76/e2/980a29341fe37a583ada29594ed529708d5e8e2c0f9d97c3cc\n",
            "Successfully built jsonpath\n",
            "Installing collected packages: py-mini-racer, jsonpath, akracer, akshare\n",
            "Successfully installed akracer-0.0.13 akshare-1.17.46 jsonpath-0.82.2 py-mini-racer-0.6.0\n"
          ]
        }
      ]
    },
    {
      "cell_type": "code",
      "source": [
        "import akshare as ak\n",
        "df = ak.stock_zh_a_hist(symbol=\"600519\", period=\"daily\", start_date=\"20240101\", end_date=\"20240201\")\n",
        "print(len(df), df.head())\n"
      ],
      "metadata": {
        "colab": {
          "base_uri": "https://localhost:8080/"
        },
        "id": "8KbKsSnIlhWf",
        "outputId": "28d7b1e0-b9d7-4688-8789-eb0f2918df81"
      },
      "execution_count": 4,
      "outputs": [
        {
          "output_type": "stream",
          "name": "stdout",
          "text": [
            "23            日期    股票代码       开盘       收盘       最高       最低    成交量  \\\n",
            "0  2024-01-02  600519  1715.00  1685.01  1718.19  1678.10  32156   \n",
            "1  2024-01-03  600519  1681.11  1694.00  1695.22  1676.33  20229   \n",
            "2  2024-01-04  600519  1693.00  1669.00  1693.00  1662.93  21551   \n",
            "3  2024-01-05  600519  1661.33  1663.36  1678.66  1652.11  20243   \n",
            "4  2024-01-08  600519  1661.00  1643.99  1662.00  1640.01  25586   \n",
            "\n",
            "            成交额    振幅   涨跌幅    涨跌额   换手率  \n",
            "0  5.440083e+09  2.32 -2.37 -40.99  0.26  \n",
            "1  3.411401e+09  1.12  0.53   8.99  0.16  \n",
            "2  3.603970e+09  1.78 -1.48 -25.00  0.17  \n",
            "3  3.373156e+09  1.59 -0.34  -5.64  0.16  \n",
            "4  4.211919e+09  1.32 -1.16 -19.37  0.20  \n"
          ]
        }
      ]
    }
  ]
}