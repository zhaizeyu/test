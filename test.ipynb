{
  "cells": [
    {
      "cell_type": "markdown",
      "metadata": {
        "colab_type": "text",
        "id": "view-in-github"
      },
      "source": [
        "<a href=\"https://colab.research.google.com/github/zhaizeyu/test/blob/master/test.ipynb\" target=\"_parent\"><img src=\"https://colab.research.google.com/assets/colab-badge.svg\" alt=\"Open In Colab\"/></a>"
      ]
    },
    {
      "cell_type": "code",
      "execution_count": null,
      "metadata": {},
      "outputs": [],
      "source": []
    },
    {
      "cell_type": "code",
      "execution_count": 1,
      "metadata": {
        "colab": {
          "base_uri": "https://localhost:8080/"
        },
        "collapsed": true,
        "id": "3sr6fjKOloJe",
        "outputId": "7090628b-b134-41a2-ffc7-11e03e93f1c8"
      },
      "outputs": [
        {
          "name": "stdout",
          "output_type": "stream",
          "text": [
            "Requirement already satisfied: akshare in ./.venv/lib/python3.13/site-packages (1.17.49)\n",
            "Requirement already satisfied: aiohttp>=3.11.13 in ./.venv/lib/python3.13/site-packages (from akshare) (3.12.15)\n",
            "Requirement already satisfied: beautifulsoup4>=4.9.1 in ./.venv/lib/python3.13/site-packages (from akshare) (4.13.5)\n",
            "Requirement already satisfied: lxml>=4.2.1 in ./.venv/lib/python3.13/site-packages (from akshare) (6.0.1)\n",
            "Requirement already satisfied: pandas>=0.25 in ./.venv/lib/python3.13/site-packages (from akshare) (2.3.2)\n",
            "Requirement already satisfied: requests>=2.22.0 in ./.venv/lib/python3.13/site-packages (from akshare) (2.32.5)\n",
            "Requirement already satisfied: html5lib>=1.0.1 in ./.venv/lib/python3.13/site-packages (from akshare) (1.1)\n",
            "Requirement already satisfied: xlrd>=1.2.0 in ./.venv/lib/python3.13/site-packages (from akshare) (2.0.2)\n",
            "Requirement already satisfied: urllib3>=1.25.8 in ./.venv/lib/python3.13/site-packages (from akshare) (2.5.0)\n",
            "Requirement already satisfied: tqdm>=4.43.0 in ./.venv/lib/python3.13/site-packages (from akshare) (4.67.1)\n",
            "Requirement already satisfied: openpyxl>=3.0.3 in ./.venv/lib/python3.13/site-packages (from akshare) (3.1.5)\n",
            "Requirement already satisfied: jsonpath>=0.82 in ./.venv/lib/python3.13/site-packages (from akshare) (0.82.2)\n",
            "Requirement already satisfied: tabulate>=0.8.6 in ./.venv/lib/python3.13/site-packages (from akshare) (0.9.0)\n",
            "Requirement already satisfied: decorator>=4.4.2 in ./.venv/lib/python3.13/site-packages (from akshare) (5.2.1)\n",
            "Requirement already satisfied: nest_asyncio>=1.6.0 in ./.venv/lib/python3.13/site-packages (from akshare) (1.6.0)\n",
            "Requirement already satisfied: mini-racer>=0.12.4 in ./.venv/lib/python3.13/site-packages (from akshare) (0.12.4)\n",
            "Requirement already satisfied: aiohappyeyeballs>=2.5.0 in ./.venv/lib/python3.13/site-packages (from aiohttp>=3.11.13->akshare) (2.6.1)\n",
            "Requirement already satisfied: aiosignal>=1.4.0 in ./.venv/lib/python3.13/site-packages (from aiohttp>=3.11.13->akshare) (1.4.0)\n",
            "Requirement already satisfied: attrs>=17.3.0 in ./.venv/lib/python3.13/site-packages (from aiohttp>=3.11.13->akshare) (25.3.0)\n",
            "Requirement already satisfied: frozenlist>=1.1.1 in ./.venv/lib/python3.13/site-packages (from aiohttp>=3.11.13->akshare) (1.7.0)\n",
            "Requirement already satisfied: multidict<7.0,>=4.5 in ./.venv/lib/python3.13/site-packages (from aiohttp>=3.11.13->akshare) (6.6.4)\n",
            "Requirement already satisfied: propcache>=0.2.0 in ./.venv/lib/python3.13/site-packages (from aiohttp>=3.11.13->akshare) (0.3.2)\n",
            "Requirement already satisfied: yarl<2.0,>=1.17.0 in ./.venv/lib/python3.13/site-packages (from aiohttp>=3.11.13->akshare) (1.20.1)\n",
            "Requirement already satisfied: idna>=2.0 in ./.venv/lib/python3.13/site-packages (from yarl<2.0,>=1.17.0->aiohttp>=3.11.13->akshare) (3.10)\n",
            "Requirement already satisfied: soupsieve>1.2 in ./.venv/lib/python3.13/site-packages (from beautifulsoup4>=4.9.1->akshare) (2.8)\n",
            "Requirement already satisfied: typing-extensions>=4.0.0 in ./.venv/lib/python3.13/site-packages (from beautifulsoup4>=4.9.1->akshare) (4.15.0)\n",
            "Requirement already satisfied: six>=1.9 in ./.venv/lib/python3.13/site-packages (from html5lib>=1.0.1->akshare) (1.17.0)\n",
            "Requirement already satisfied: webencodings in ./.venv/lib/python3.13/site-packages (from html5lib>=1.0.1->akshare) (0.5.1)\n",
            "Requirement already satisfied: et-xmlfile in ./.venv/lib/python3.13/site-packages (from openpyxl>=3.0.3->akshare) (2.0.0)\n",
            "Requirement already satisfied: numpy>=1.26.0 in ./.venv/lib/python3.13/site-packages (from pandas>=0.25->akshare) (2.3.3)\n",
            "Requirement already satisfied: python-dateutil>=2.8.2 in ./.venv/lib/python3.13/site-packages (from pandas>=0.25->akshare) (2.9.0.post0)\n",
            "Requirement already satisfied: pytz>=2020.1 in ./.venv/lib/python3.13/site-packages (from pandas>=0.25->akshare) (2025.2)\n",
            "Requirement already satisfied: tzdata>=2022.7 in ./.venv/lib/python3.13/site-packages (from pandas>=0.25->akshare) (2025.2)\n",
            "Requirement already satisfied: charset_normalizer<4,>=2 in ./.venv/lib/python3.13/site-packages (from requests>=2.22.0->akshare) (3.4.3)\n",
            "Requirement already satisfied: certifi>=2017.4.17 in ./.venv/lib/python3.13/site-packages (from requests>=2.22.0->akshare) (2025.8.3)\n"
          ]
        }
      ],
      "source": [
        "!pip install akshare"
      ]
    },
    {
      "cell_type": "code",
      "execution_count": 2,
      "metadata": {
        "colab": {
          "base_uri": "https://localhost:8080/"
        },
        "id": "8KbKsSnIlhWf",
        "outputId": "28d7b1e0-b9d7-4688-8789-eb0f2918df81"
      },
      "outputs": [
        {
          "name": "stdout",
          "output_type": "stream",
          "text": [
            "23            日期    股票代码       开盘       收盘       最高       最低    成交量  \\\n",
            "0  2024-01-02  600519  1715.00  1685.01  1718.19  1678.10  32156   \n",
            "1  2024-01-03  600519  1681.11  1694.00  1695.22  1676.33  20229   \n",
            "2  2024-01-04  600519  1693.00  1669.00  1693.00  1662.93  21551   \n",
            "3  2024-01-05  600519  1661.33  1663.36  1678.66  1652.11  20243   \n",
            "4  2024-01-08  600519  1661.00  1643.99  1662.00  1640.01  25586   \n",
            "\n",
            "            成交额    振幅   涨跌幅    涨跌额   换手率  \n",
            "0  5.440083e+09  2.32 -2.37 -40.99  0.26  \n",
            "1  3.411401e+09  1.12  0.53   8.99  0.16  \n",
            "2  3.603970e+09  1.78 -1.48 -25.00  0.17  \n",
            "3  3.373156e+09  1.59 -0.34  -5.64  0.16  \n",
            "4  4.211919e+09  1.32 -1.16 -19.37  0.20  \n"
          ]
        }
      ],
      "source": [
        "import akshare as ak\n",
        "df = ak.stock_zh_a_hist(symbol=\"600519\", period=\"daily\", start_date=\"20240101\", end_date=\"20240201\")\n",
        "print(len(df), df.head())\n"
      ]
    }
  ],
  "metadata": {
    "colab": {
      "authorship_tag": "ABX9TyOnApKnP7QNwSSFRVB31+ou",
      "include_colab_link": true,
      "name": "test.ipynb",
      "provenance": []
    },
    "kernelspec": {
      "display_name": ".venv",
      "language": "python",
      "name": "python3"
    },
    "language_info": {
      "codemirror_mode": {
        "name": "ipython",
        "version": 3
      },
      "file_extension": ".py",
      "mimetype": "text/x-python",
      "name": "python",
      "nbconvert_exporter": "python",
      "pygments_lexer": "ipython3",
      "version": "3.13.7"
    }
  },
  "nbformat": 4,
  "nbformat_minor": 0
}
