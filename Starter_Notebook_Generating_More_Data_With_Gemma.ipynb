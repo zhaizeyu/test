{
  "metadata": {
    "kernelspec": {
      "language": "python",
      "display_name": "Python 3",
      "name": "python3"
    },
    "language_info": {
      "name": "python",
      "version": "3.10.13",
      "mimetype": "text/x-python",
      "codemirror_mode": {
        "name": "ipython",
        "version": 3
      },
      "pygments_lexer": "ipython3",
      "nbconvert_exporter": "python",
      "file_extension": ".py"
    },
    "kaggle": {
      "accelerator": "gpu",
      "dataSources": [
        {
          "sourceId": 67121,
          "databundleVersionId": 7806901,
          "sourceType": "competition"
        },
        {
          "sourceId": 7701220,
          "sourceType": "datasetVersion",
          "datasetId": 9
        },
        {
          "sourceId": 11359,
          "sourceType": "modelInstanceVersion",
          "isSourceIdPinned": true,
          "modelInstanceId": 8749
        }
      ],
      "dockerImageVersionId": 30648,
      "isInternetEnabled": true,
      "language": "python",
      "sourceType": "notebook",
      "isGpuEnabled": true
    },
    "colab": {
      "name": "Starter Notebook: Generating More Data With Gemma",
      "provenance": [],
      "include_colab_link": true
    }
  },
  "nbformat_minor": 0,
  "nbformat": 4,
  "cells": [
    {
      "cell_type": "markdown",
      "metadata": {
        "id": "view-in-github",
        "colab_type": "text"
      },
      "source": [
        "<a href=\"https://colab.research.google.com/github/zhaizeyu/test/blob/master/Starter_Notebook_Generating_More_Data_With_Gemma.ipynb\" target=\"_parent\"><img src=\"https://colab.research.google.com/assets/colab-badge.svg\" alt=\"Open In Colab\"/></a>"
      ]
    },
    {
      "cell_type": "markdown",
      "source": [
        "# Starter Notebook: Generating More Data With Gemma\n",
        "Our ultimate goal in this competition is to take an original sample of text and a new version of that text rewritten by Gemma, and to figure out what prompt was used to get the new version. A helpful first step is to be able to generate a bunch of examples of what that looks like, so we can then learn the relationships between the original text, rewrite prompt and rewritten text.\n",
        "\n",
        "To generate examples, we'll need a few things:\n",
        "1. A corpus of original texts\n",
        "2. A set of rewrite prompts\n",
        "3. Our model (Gemma!) to use the original text and rewrite prompt to generate a rewritten text\n",
        "\n",
        "Let's tackle them one by one."
      ],
      "metadata": {
        "_uuid": "8f2839f25d086af736a60e9eeb907d3b93b6e0e5",
        "_cell_guid": "b1076dfc-b9ad-4769-8c92-a6c4dae69d19",
        "id": "y9neLXKen101"
      }
    },
    {
      "cell_type": "markdown",
      "source": [
        "## Generating `original_text`\n",
        "While we don't know too much about the original text used in the competition test set,\n",
        "the meta-kaggle dataset provides a corpus of forum messages on kaggle that we can\n",
        "use as a simple example.\n"
      ],
      "metadata": {
        "id": "9ywF9Ahrn103"
      }
    },
    {
      "cell_type": "code",
      "source": [
        "import pandas as pd\n",
        "\n",
        "forum_messsages_df = pd.read_csv('/kaggle/input/meta-kaggle/ForumMessages.csv')\n",
        "forum_messsages_df.head()"
      ],
      "metadata": {
        "execution": {
          "iopub.status.busy": "2024-02-26T23:18:42.191551Z",
          "iopub.execute_input": "2024-02-26T23:18:42.191834Z",
          "iopub.status.idle": "2024-02-26T23:18:55.664977Z",
          "shell.execute_reply.started": "2024-02-26T23:18:42.191812Z",
          "shell.execute_reply": "2024-02-26T23:18:55.663995Z"
        },
        "trusted": true,
        "id": "AvZl8d5Hn103"
      },
      "execution_count": null,
      "outputs": []
    },
    {
      "cell_type": "code",
      "source": [
        "# Let's grab the first 5 messages to test our generation pipeline:\n",
        "\n",
        "original_texts = forum_messsages_df['Message'][:5]"
      ],
      "metadata": {
        "execution": {
          "iopub.status.busy": "2024-02-26T23:18:55.669119Z",
          "iopub.execute_input": "2024-02-26T23:18:55.669391Z",
          "iopub.status.idle": "2024-02-26T23:18:55.673695Z",
          "shell.execute_reply.started": "2024-02-26T23:18:55.669367Z",
          "shell.execute_reply": "2024-02-26T23:18:55.672719Z"
        },
        "trusted": true,
        "id": "9om-FtbJn104"
      },
      "execution_count": null,
      "outputs": []
    },
    {
      "cell_type": "markdown",
      "source": [
        "## Generating `rewrite_prompt`\n",
        "While there are lots of ways to come up with rewrite prompts, for simplicity here are a few random prompts we can use."
      ],
      "metadata": {
        "id": "pFA-Mspvn104"
      }
    },
    {
      "cell_type": "code",
      "source": [
        "rewrite_prompts = [\n",
        "    'Explain this to me like I\\'m five.',\n",
        "    'Convert this into a sea shanty.',\n",
        "    'Make this rhyme.',\n",
        "]"
      ],
      "metadata": {
        "execution": {
          "iopub.status.busy": "2024-02-27T00:00:53.675986Z",
          "iopub.execute_input": "2024-02-27T00:00:53.676986Z",
          "iopub.status.idle": "2024-02-27T00:00:53.681432Z",
          "shell.execute_reply.started": "2024-02-27T00:00:53.676937Z",
          "shell.execute_reply": "2024-02-27T00:00:53.680545Z"
        },
        "trusted": true,
        "id": "KY-DJtVtn104"
      },
      "execution_count": null,
      "outputs": []
    },
    {
      "cell_type": "markdown",
      "source": [
        "## Generating `rewritten_text` with Gemma\n",
        "Now for the fun part! We can use gemma to rewrite our original text samples\n",
        "using the rewrite prompts we created.\n",
        "The code in this cell is borrowed from [the model card](https://www.kaggle.com/models/google/gemma/frameworks/pyTorch/variations/7b-it-quant).\n",
        "The important things to know:\n",
        "\n",
        "We're using the 7B parameter instruction tuned quantized model, which means:\n",
        "\n",
        "- 7B Parameter: this is the larger of the two Gemma models (the other has 2 billion parameters).\n",
        "    In general we expect the larger model to perform better on complex tasks, but\n",
        "    it's more resource intensive. You can see exactly how Gemma 7B compares to to Gemma 2B [here](https://ai.google.dev/gemma).\n",
        "- Instruction Tuned: instruction tuning is an extra training step that results in a model that\n",
        "    can follow user instructions better. Our rewrite prompt is a kind of instruction, so this is what we want!\n",
        "- Quantized: quantization is a way of shrinking the size of a model by reducing the precision of each\n",
        "    parameter; so while our model still has 7 billion parameters, it's easier to run on limited\n",
        "    hardware.\n",
        "\n",
        "At the end of this cell, we'll have a `model` we can call `generate` on with a specially formatted prompt."
      ],
      "metadata": {
        "id": "m-CWSbnPn104"
      }
    },
    {
      "cell_type": "code",
      "source": [
        "!pip install -q -U immutabledict sentencepiece\n",
        "!git clone https://github.com/google/gemma_pytorch.git\n",
        "!mkdir /kaggle/working/gemma/\n",
        "!mv /kaggle/working/gemma_pytorch/gemma/* /kaggle/working/gemma/\n",
        "\n",
        "import sys\n",
        "sys.path.append(\"/kaggle/working/gemma_pytorch/\")\n",
        "from gemma.config import GemmaConfig, get_config_for_7b, get_config_for_2b\n",
        "from gemma.model import GemmaForCausalLM\n",
        "from gemma.tokenizer import Tokenizer\n",
        "import contextlib\n",
        "import os\n",
        "import torch\n",
        "\n",
        "# Load the model\n",
        "VARIANT = \"7b-it-quant\"\n",
        "MACHINE_TYPE = \"cuda\"\n",
        "weights_dir = '/kaggle/input/gemma/pytorch/7b-it-quant/2'\n",
        "\n",
        "@contextlib.contextmanager\n",
        "def _set_default_tensor_type(dtype: torch.dtype):\n",
        "  \"\"\"Sets the default torch dtype to the given dtype.\"\"\"\n",
        "  torch.set_default_dtype(dtype)\n",
        "  yield\n",
        "  torch.set_default_dtype(torch.float)\n",
        "\n",
        "# Model Config.\n",
        "model_config = get_config_for_2b() if \"2b\" in VARIANT else get_config_for_7b()\n",
        "model_config.tokenizer = os.path.join(weights_dir, \"tokenizer.model\")\n",
        "model_config.quant = \"quant\" in VARIANT\n",
        "\n",
        "# Model.\n",
        "device = torch.device(MACHINE_TYPE)\n",
        "with _set_default_tensor_type(model_config.get_dtype()):\n",
        "  model = GemmaForCausalLM(model_config)\n",
        "  ckpt_path = os.path.join(weights_dir, f'gemma-{VARIANT}.ckpt')\n",
        "  model.load_weights(ckpt_path)\n",
        "  model = model.to(device).eval()\n"
      ],
      "metadata": {
        "execution": {
          "iopub.status.busy": "2024-02-27T00:00:56.484113Z",
          "iopub.execute_input": "2024-02-27T00:00:56.485153Z",
          "iopub.status.idle": "2024-02-27T00:01:18.443456Z",
          "shell.execute_reply.started": "2024-02-27T00:00:56.485119Z",
          "shell.execute_reply": "2024-02-27T00:01:18.441835Z"
        },
        "trusted": true,
        "id": "07mUshDTn104"
      },
      "execution_count": null,
      "outputs": []
    },
    {
      "cell_type": "code",
      "source": [
        "# Now we can loop through our input texts, randomly select a rewrite prompt, and see Gemma in action:\n",
        "\n",
        "import random\n",
        "random.seed(0)\n",
        "# This is the prompt format the model expects\n",
        "USER_CHAT_TEMPLATE = \"<start_of_turn>user\\n{prompt}<end_of_turn>\\n<start_of_turn>model\\n\"\n",
        "\n",
        "rewrite_data = []\n",
        "\n",
        "for original_text in original_texts:\n",
        "    rewrite_prompt = random.choice(rewrite_prompts)\n",
        "    prompt = f'{rewrite_prompt}\\n{original_text}'\n",
        "    rewritten_text = model.generate(\n",
        "        USER_CHAT_TEMPLATE.format(prompt=prompt),\n",
        "        device=device,\n",
        "        output_len=100,\n",
        "    )\n",
        "    rewrite_data.append({\n",
        "        'original_text': original_text,\n",
        "        'rewrite_prompt': rewrite_prompt,\n",
        "        'rewritten_text': rewritten_text,\n",
        "    })\n",
        ""
      ],
      "metadata": {
        "execution": {
          "iopub.status.busy": "2024-02-27T00:01:18.444352Z",
          "iopub.status.idle": "2024-02-27T00:01:18.444741Z",
          "shell.execute_reply.started": "2024-02-27T00:01:18.444566Z",
          "shell.execute_reply": "2024-02-27T00:01:18.444583Z"
        },
        "trusted": true,
        "id": "DYSPdyO-n104"
      },
      "execution_count": null,
      "outputs": []
    },
    {
      "cell_type": "code",
      "source": [
        "# Let's turn our generated data into a dataframe, and spot check the first rewrite to see if it makes sense.\n",
        "rewrite_data_df = pd.DataFrame(rewrite_data)\n",
        "rewrite_data_df[:1].values"
      ],
      "metadata": {
        "execution": {
          "iopub.status.busy": "2024-02-27T00:01:18.445724Z",
          "iopub.status.idle": "2024-02-27T00:01:18.446113Z",
          "shell.execute_reply.started": "2024-02-27T00:01:18.445891Z",
          "shell.execute_reply": "2024-02-27T00:01:18.445905Z"
        },
        "trusted": true,
        "id": "8pwPKnGWn105"
      },
      "execution_count": null,
      "outputs": []
    },
    {
      "cell_type": "markdown",
      "source": [
        "# Next Steps\n",
        "\n",
        "Huzzah! We have a dataset with original texts, rewrite prompts, and rewritten text. Here are a couple of suggestions of next steps you could take to generate a larger, more diverse dataset:\n",
        "1. Add more original text data sources; besides just using all of the forum messages (instead of just the first 5), Kaggle has tons of datasets that would make reasonable input text. Here are few random datasets you could use:\n",
        "    - The `Plot` column from the [Wikipedia Movie Plots dataset](https://www.kaggle.com/datasets/jrobischon/wikipedia-movie-plots).\n",
        "    - The `text` column from the [Emotions dataset](https://www.kaggle.com/datasets/nelgiriyewithana/emotions).\n",
        "    - The `body_text` and `abstract` columns of the [Wikibooks Dataset](https://www.kaggle.com/datasets/dhruvildave/wikibooks-dataset).\n",
        "    \n",
        "    Note that each of these may need different preprocessing; for example, Gemma has a context length of 8192 tokens, so if the text is long, you'll need to truncate it.\n",
        "2. Use gemma to generate original text.\n",
        "3. Expand the list of rewrite prompts. You can come up with them manually, or explore having Gemma write rewrite prompts.\n",
        "4. Play around with the generation of `rewritten_text`:\n",
        "   - How does changing `output_len` affect the length and quality of rewrites?\n",
        "   - Do rewrites with the 2B parameter model differ substantially from the 7B model?\n",
        "   - Can you use [few shot prompting](https://www.promptingguide.ai/techniques/fewshot) to get higher quality rewrites?"
      ],
      "metadata": {
        "id": "R6tnU3Jsn105"
      }
    },
    {
      "cell_type": "code",
      "source": [],
      "metadata": {
        "id": "AHjg1NVcn105"
      },
      "execution_count": null,
      "outputs": []
    }
  ]
}