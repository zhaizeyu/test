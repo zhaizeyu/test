{
  "nbformat": 4,
  "nbformat_minor": 0,
  "metadata": {
    "colab": {
      "provenance": [],
      "authorship_tag": "ABX9TyPlZmvTqXU0I/u9QnFtWkaA",
      "include_colab_link": true
    },
    "kernelspec": {
      "name": "python3",
      "display_name": "Python 3"
    },
    "language_info": {
      "name": "python"
    }
  },
  "cells": [
    {
      "cell_type": "markdown",
      "metadata": {
        "id": "view-in-github",
        "colab_type": "text"
      },
      "source": [
        "<a href=\"https://colab.research.google.com/github/zhaizeyu/test/blob/master/train_llama2.ipynb\" target=\"_parent\"><img src=\"https://colab.research.google.com/assets/colab-badge.svg\" alt=\"Open In Colab\"/></a>"
      ]
    },
    {
      "cell_type": "code",
      "execution_count": null,
      "metadata": {
        "id": "MboNQ6xgJYZa"
      },
      "outputs": [],
      "source": [
        "!mkdir -p '/root/.kaggle'\n",
        "from google.colab import userdata\n",
        "\n",
        "# 打开文件以写入，如果文件不存在则创建\n",
        "with open('/root/.kaggle/kaggle.json','w') as file:\n",
        "    f = {\"username\":userdata.get('KAGGLE_USERNAME'),\"key\":userdata.get('KAGGLE_KEY')}\n",
        "    # 写入内容 'ccc' 到文件\n",
        "    file.write('{\"username\":\"zeyuzhai\",\"key\":\"42dc12af61163cb7e7c0a849dd7e8f49\"}')\n",
        "!chmod 600 '/root/.kaggle/kaggle.json'"
      ]
    }
  ]
}